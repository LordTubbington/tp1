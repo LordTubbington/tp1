Currency Converter - tp1

var axios = require("axios").default;

var options = {
  method: 'GET',
  url: 'https://currency-converter5.p.rapidapi.com/currency/historical/2020-01-20',
  params: {from: 'BEF', amount: '1', format: 'json', to: 'EUR'},
  headers: {
    'x-rapidapi-host': 'currency-converter5.p.rapidapi.com',
    'x-rapidapi-key': 'b497a79f25msh7be14e56dde4d4dp147c8cjsn887bd8849ce8'
  }
};

axios.request(options).then(function (response) {
	console.log(response.data);
}).catch(function (error) {
	console.error(error);
});