#Femmes en politiques
#retrieve results from SPARQL
endpoint_url = "https://query.wikidata.org/sparql"
sparql = SPARQLWrapper(endpoint)


#P551 = résidence
#Q239 = Ville de Bruxelles
#P106 = occupation
#Q82955 = Politician
#P569 = date of birth

query = """#Femmes en politiques
SELECT DISTINCT ?politicienne ?politicienneLabel ?dateBirth
WHERE
{
       
        ?politicienne wdt:P551 wd:Q239 .
        ?politicienne wdt:P21 wd:Q6581072 .
        ?politicienne wdt:P106 wd:Q82955 . 
        ?politicienne wdt:P569 ?dateBirth .
       SERVICE wikibase:label {bd:serviceParam wikibase:language "fr,en" . }
}
LIMIT 100
"""

sparql.setQuery(statement)
sparql.setReturnFormat(JSON)
results = sparql.query().convert()

rows = results['results']['bindings']
print(f"\n{len(rows)} Politiciennes bruxelloises\n")
print(rows[:10])